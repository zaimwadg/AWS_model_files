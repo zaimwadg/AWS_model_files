{
 "cells": [
  {
   "cell_type": "code",
   "execution_count": 241,
   "metadata": {
    "collapsed": true
   },
   "outputs": [],
   "source": [
    "import boto3\n",
    "import numpy as np\n",
    "from pexpect import pxssh\n",
    "import time"
   ]
  },
  {
   "cell_type": "code",
   "execution_count": 284,
   "metadata": {
    "collapsed": false
   },
   "outputs": [],
   "source": [
    "def instances(ec2,max_count,key_name):\n",
    "    ec2.create_instances(ImageId='ami-539ac933',InstanceType='t2.micro',MinCount=1,MaxCount=max_count,KeyName=key_name,SecurityGroupIds=['sg-d7ef59b0'])\n",
    "\n",
    "def get_ip(ec2):\n",
    "    ips = []\n",
    "    for instance in ec2.instances.filter(Filters = [\n",
    "        {\n",
    "            'Name': 'instance-state-code',\n",
    "            'Values': ['16']\n",
    "        }\n",
    "    ]):\n",
    "        ips.append(instance.public_ip_address.replace('.','-'))\n",
    "    return ips\n",
    "\n",
    "def login(ec2,zone,key_name):\n",
    "    ips = get_ip(ec2)\n",
    "    ssh_connections = []\n",
    "    for ip in ips:\n",
    "        s = pxssh.pxssh()\n",
    "        s.login(server='ec2-' + ip + '.' + zone + '.compute.amazonaws.com',username='ubuntu',ssh_key=key_name+'.pem')\n",
    "        ssh_connections.append(s)\n",
    "    return ssh_connections"
   ]
  },
  {
   "cell_type": "code",
   "execution_count": 247,
   "metadata": {
    "collapsed": true
   },
   "outputs": [],
   "source": [
    "def run_model_on_instance(s,parameters):\n",
    "    commands = ['git clone https://github.com/account/folder',\\\n",
    "                'mv -v /home/ubuntu/folder/* /home/ubuntu',\\\n",
    "                'rm -rf /home/ubuntu/folder'\n",
    "               ]\n",
    "    for command in commands:\n",
    "        s.sendline(command)\n",
    "        time.sleep(10)\n",
    "    s.sendline('bash script_to_install.sh')\n",
    "    time.sleep(600)\n",
    "    s.sendline('python script_gp_model.py ' + parameters)\n",
    "    time.sleep(60)\n",
    "    #get_results()"
   ]
  },
  {
   "cell_type": "code",
   "execution_count": 245,
   "metadata": {
    "collapsed": false
   },
   "outputs": [],
   "source": [
    "def run_model_on_instances(ssh_connections,parameters):\n",
    "    k = 0\n",
    "    for ssh_connection in ssh_connections:\n",
    "        run_model_on_instance(ssh_connection,parameters[k])\n",
    "        k +=1"
   ]
  },
  {
   "cell_type": "code",
   "execution_count": null,
   "metadata": {
    "collapsed": true
   },
   "outputs": [],
   "source": [
    "ec2 = boto3.resource('ec2')\n",
    "key_name = 'name'\n",
    "instances(ec2,2,key_name)\n",
    "zone = 'us-west-1'\n",
    "ssh_connections = login(ec2,zone,key_name)\n",
    "parameters = ['200 50 0','100 25 1']\n",
    "run_model_on_instances(ssh_connections,parameters)"
   ]
  }
 ],
 "metadata": {
  "anaconda-cloud": {},
  "kernelspec": {
   "display_name": "Python [Root]",
   "language": "python",
   "name": "Python [Root]"
  },
  "language_info": {
   "codemirror_mode": {
    "name": "ipython",
    "version": 3
   },
   "file_extension": ".py",
   "mimetype": "text/x-python",
   "name": "python",
   "nbconvert_exporter": "python",
   "pygments_lexer": "ipython3",
   "version": "3.5.2"
  }
 },
 "nbformat": 4,
 "nbformat_minor": 0
}
